{
 "cells": [
  {
   "cell_type": "markdown",
   "metadata": {
    "id": "cxCHAm0GXfFb"
   },
   "source": [
    "# Inputs\n",
    "## Practice Problems"
   ]
  },
  {
   "cell_type": "markdown",
   "metadata": {
    "id": "DbzTxpsposCe"
   },
   "source": [
    "### 1. Write a Python program that asks the user for their name using the `input()` function and then greets them with a personalized message. Ensure that the program displays the user's name exactly as entered.\n",
    "\n",
    "Example:\n",
    "```\n",
    "Enter your name: John\n",
    "Hello, John! Nice to meet you.\n",
    "```\n"
   ]
  },
  {
   "cell_type": "code",
   "execution_count": null,
   "metadata": {
    "id": "p5sB4WjWh2Tp"
   },
   "outputs": [
    {
     "data": {
      "text/plain": [
       "'Hello, Ranveer! Nice to meet you'"
      ]
     },
     "execution_count": 6,
     "metadata": {},
     "output_type": "execute_result"
    }
   ],
   "source": [
    "User_Name = input(\"Enter your name:\")\n",
    "f'Hello, {User_Name}! Nice to meet you.'"
   ]
  },
  {
   "cell_type": "code",
   "execution_count": null,
   "metadata": {},
   "outputs": [
    {
     "name": "stdout",
     "output_type": "stream",
     "text": [
      "Hello, Ranveer! Nice to meet you\n"
     ]
    }
   ],
   "source": [
    "User_Name = input(\"Enter your name:\")\n",
    "print('Hello, {}! Nice to meet you.'.format(User_Name))"
   ]
  },
  {
   "cell_type": "markdown",
   "metadata": {},
   "source": [
    "<details>\n",
    "  <summary>Answer</summary>\n",
    "\n",
    "  ```python\n",
    "      # Ask the user for their name\n",
    "      name = input(\"Enter your name: \")\n",
    "\n",
    "      # Greet the user with a personalized message\n",
    "      print(\"Hello, \" + name + \"! Nice to meet you.\")\n",
    "\n",
    "  ```\n",
    "</details>"
   ]
  }
 ],
 "metadata": {
  "colab": {
   "authorship_tag": "ABX9TyO3VijQCXDe7a1I0vgK92JH",
   "collapsed_sections": [],
   "provenance": []
  },
  "kernelspec": {
   "display_name": "dsi_participant",
   "language": "python",
   "name": "python3"
  },
  "language_info": {
   "codemirror_mode": {
    "name": "ipython",
    "version": 3
   },
   "file_extension": ".py",
   "mimetype": "text/x-python",
   "name": "python",
   "nbconvert_exporter": "python",
   "pygments_lexer": "ipython3",
   "version": "3.9.15"
  }
 },
 "nbformat": 4,
 "nbformat_minor": 0
}
