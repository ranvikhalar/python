{
 "cells": [
  {
   "cell_type": "markdown",
   "metadata": {
    "id": "o9ZHooznNUJM"
   },
   "source": [
    "# NumPy\n",
    "## Practice Problems"
   ]
  },
  {
   "cell_type": "markdown",
   "metadata": {
    "id": "CjqzgdT1FY8H"
   },
   "source": [
    "### 1. The formula for exponential growth is `population_size = N0 *e**rt`, where `N0` is the initial population, `e` is the exponential function, `r` is the rate, and `t` is time. Using this:\n",
    "\n",
    "1.   Set the initial population, `N0`, as 100 and the growth rate, `r`, as 0.4\n",
    "2.   Use the suitable `numpy` function to generate an array of time points, `t`, which go from 0 to 10 seconds, in 0.2 second increments.\n",
    "3.   Write an expression to evaluate `population_size`, which should be an array of the population size for each time point in `t`.\n",
    "4.   Create a new variable called `population_size_noise`, use the same expression you wrote in parts (3), and add noise to the population at each time point. Do this by adding an expression that uses a `numpy` function to generate a random value for each time point drawn from a normal distribution of `mean=0` and `stdev=250` (i.e., population_size_noise = expression_from_part_a + expression_to_add_noise)."
   ]
  },
  {
   "cell_type": "code",
   "execution_count": 12,
   "metadata": {
    "colab": {
     "base_uri": "https://localhost:8080/"
    },
    "executionInfo": {
     "elapsed": 7,
     "status": "ok",
     "timestamp": 1668296875008,
     "user": {
      "displayName": "Kaylie Lau",
      "userId": "01284785813595846851"
     },
     "user_tz": 300
    },
    "id": "ULSswoS4EhRs",
    "outputId": "6d541d46-0b4f-4300-9d52-bfd6d4877aff"
   },
   "outputs": [
    {
     "data": {
      "text/plain": [
       "array([ 506.08634092,  -44.61039665,  -14.69185097, -141.11724051,\n",
       "        354.06468376, -426.20220446,  597.81038127,  -15.23447519,\n",
       "        269.40786194,  143.1007272 ,  588.08107711, -273.94520673,\n",
       "        180.56534634,  186.90811277,  589.92778091,   57.03887545,\n",
       "        316.55692067,  170.1547257 ,  432.62301838,  602.92632294,\n",
       "        220.14844814,  822.73652457,  806.64141959,  755.27741083,\n",
       "        907.30983425,  567.9736451 ,  769.72433505,  633.17140728,\n",
       "        872.36110884, 1150.15629729,  929.40245013, 1094.93806007,\n",
       "       1121.78855652, 1190.0189504 , 1350.22069179, 1641.29852738,\n",
       "       1502.0997308 , 1988.4011    , 2505.47486779, 2450.14900446,\n",
       "       2405.29413162, 2435.67002897, 2692.12951449, 3541.80946709,\n",
       "       3391.14478508, 3500.57453273, 4012.36827842, 4819.906382  ,\n",
       "       4682.5871821 , 5194.34525523])"
      ]
     },
     "execution_count": 12,
     "metadata": {},
     "output_type": "execute_result"
    }
   ],
   "source": [
    "import numpy as np\n",
    "\n",
    "N0 = 100\n",
    "r = 0.4\n",
    "t = np.arange(0, 10, 0.2)\n",
    "\n",
    "population_size = N0*np.exp(r*t)\n",
    "\n",
    "np.random.seed(1)\n",
    "\n",
    "noise = np.random.normal(0, 250, size=np.shape(population_size))\n",
    "\n",
    "population_size_noise = population_size + noise\n",
    "population_size_noise\n"
   ]
  },
  {
   "cell_type": "markdown",
   "metadata": {},
   "source": [
    "<details>\n",
    "  <summary>Answer</summary>\n",
    "\n",
    "  ```python\n",
    "  import numpy as np\n",
    "\n",
    "  #set initial population\n",
    "  N0 = 100\n",
    "  #set growth rate\n",
    "  rate = 0.4\n",
    "  #create array of time points \n",
    "  t = np.arange(start=0, stop=10.2, step=0.2)\n",
    "\n",
    "  #calculate population of colony at the time points in t\n",
    "  population_size = N0 * np.exp(rate*t)\n",
    "  print('Population size is: ',population_size)\n",
    "\n",
    "  #add noise to population at each time point\n",
    "  population_size_noise = N0 * np.exp(rate*t) + np.random.normal(loc=0, scale=250, size=np.shape(population_size))\n",
    "  print('Population size with noise is: ',population_size_noise)\n",
    "  ```\n",
    "</details>"
   ]
  },
  {
   "cell_type": "markdown",
   "metadata": {
    "id": "QmxvYhS3OCNJ"
   },
   "source": [
    "### 2. Create a multiplication table for the number 6."
   ]
  },
  {
   "cell_type": "code",
   "execution_count": 17,
   "metadata": {
    "colab": {
     "base_uri": "https://localhost:8080/"
    },
    "executionInfo": {
     "elapsed": 8,
     "status": "ok",
     "timestamp": 1668296913832,
     "user": {
      "displayName": "Kaylie Lau",
      "userId": "01284785813595846851"
     },
     "user_tz": 300
    },
    "id": "Fg9nfyEvPMLF",
    "outputId": "694b4804-2901-4b22-d573-c7b29be99928"
   },
   "outputs": [
    {
     "name": "stdout",
     "output_type": "stream",
     "text": [
      "[6, 12, 18, 24, 30, 36, 42, 48, 54, 60]\n"
     ]
    }
   ],
   "source": [
    "table = []\n",
    "\n",
    "for i in np.arange(1, 11):\n",
    "    table_6 = table.append(6 * i)\n",
    "    \n",
    "print(table)\n"
   ]
  },
  {
   "cell_type": "code",
   "execution_count": 29,
   "metadata": {},
   "outputs": [
    {
     "data": {
      "text/plain": [
       "array([[ 1,  2,  3,  4,  5,  6],\n",
       "       [ 2,  4,  6,  8, 10, 12],\n",
       "       [ 3,  6,  9, 12, 15, 18],\n",
       "       [ 4,  8, 12, 16, 20, 24],\n",
       "       [ 5, 10, 15, 20, 25, 30],\n",
       "       [ 6, 12, 18, 24, 30, 36]])"
      ]
     },
     "execution_count": 29,
     "metadata": {},
     "output_type": "execute_result"
    }
   ],
   "source": [
    "rows = np.arange(1, 7)\n",
    "columns = rows[:,None]\n",
    "arr = rows * columns\n",
    "arr"
   ]
  },
  {
   "cell_type": "markdown",
   "metadata": {},
   "source": [
    "<details>\n",
    "  <summary>Answer</summary>\n",
    "\n",
    "  ```python\n",
    "  rows = np.arange(1, 7)\n",
    "  columns = rows[:,np.newaxis]\n",
    "  arr = rows * columns\n",
    "  arr\n",
    "  ```\n",
    "</details>"
   ]
  },
  {
   "cell_type": "markdown",
   "metadata": {
    "id": "FshwbTe5PFNg"
   },
   "source": [
    "### 3. Slice `arr` to create the following two arrays:\n",
    "\n",
    "`arr1` = [4, 12, 3]\n",
    "\n",
    "`arr2` = [3, 19]"
   ]
  },
  {
   "cell_type": "code",
   "execution_count": 41,
   "metadata": {
    "colab": {
     "base_uri": "https://localhost:8080/"
    },
    "executionInfo": {
     "elapsed": 126,
     "status": "ok",
     "timestamp": 1668297029241,
     "user": {
      "displayName": "Kaylie Lau",
      "userId": "01284785813595846851"
     },
     "user_tz": 300
    },
    "id": "or6m9tOLPsoz",
    "outputId": "6ba143e8-e468-4384-eee9-7b9466474b2b"
   },
   "outputs": [
    {
     "data": {
      "text/plain": [
       "[3, 19]"
      ]
     },
     "execution_count": 41,
     "metadata": {},
     "output_type": "execute_result"
    }
   ],
   "source": [
    "arr1 = [arr[0,3], arr[1,5], arr[0,2]]\n",
    "arr1\n",
    "\n",
    "arr2 = [arr[0, 2], arr[3,4]-1]\n",
    "arr2"
   ]
  },
  {
   "cell_type": "markdown",
   "metadata": {},
   "source": [
    "<details>\n",
    "  <summary>Answer</summary>\n",
    "\n",
    "  ```python\n",
    "  arr = np.array([[4, 12, 98], [12, 11, 92], [3, 19, 60]])\n",
    "  arr\n",
    "\n",
    "  arr1 = arr[:,0]\n",
    "  print(arr1)\n",
    "\n",
    "  arr2 = arr[2,0:2]\n",
    "  print(arr2)\n",
    "  ```\n",
    "</details>"
   ]
  }
 ],
 "metadata": {
  "colab": {
   "authorship_tag": "ABX9TyMLRnQUjVoJta2UK9xkrr7Z",
   "collapsed_sections": [],
   "provenance": []
  },
  "kernelspec": {
   "display_name": "dsi_participant",
   "language": "python",
   "name": "python3"
  },
  "language_info": {
   "codemirror_mode": {
    "name": "ipython",
    "version": 3
   },
   "file_extension": ".py",
   "mimetype": "text/x-python",
   "name": "python",
   "nbconvert_exporter": "python",
   "pygments_lexer": "ipython3",
   "version": "3.9.15"
  }
 },
 "nbformat": 4,
 "nbformat_minor": 0
}
